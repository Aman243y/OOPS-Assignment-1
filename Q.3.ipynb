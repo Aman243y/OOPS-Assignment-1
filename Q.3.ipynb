{
 "cells": [
  {
   "cell_type": "code",
   "execution_count": null,
   "id": "8133aac2-477a-4fcc-bdd4-d734208343fc",
   "metadata": {},
   "outputs": [],
   "source": [
    "#"
   ]
  },
  {
   "cell_type": "code",
   "execution_count": 14,
   "id": "daad8712-84fa-4bdc-b7b0-12add58f1999",
   "metadata": {},
   "outputs": [],
   "source": [
    "class Car:\n",
    "    def __init__(self,make,model,year):\n",
    "        self.make=make\n",
    "        self.model=model\n",
    "        self.year=year\n",
    "        self.speed=0\n",
    "    def accelerate(self):\n",
    "        self.speed+=10\n",
    "        print(f\"Accelerating... Current speed: {self.speed} km/h\")"
   ]
  },
  {
   "cell_type": "code",
   "execution_count": 15,
   "id": "2ef8c012-688b-428d-92a9-ef919f147ad9",
   "metadata": {},
   "outputs": [],
   "source": [
    "my_car=Car(\"Toyata\",\"corola\",1000)"
   ]
  },
  {
   "cell_type": "code",
   "execution_count": 16,
   "id": "abb87d0a-7b3a-4d51-bec9-03b580a8e88e",
   "metadata": {},
   "outputs": [
    {
     "name": "stdout",
     "output_type": "stream",
     "text": [
      "Make: Toyata,Model:corola,Year:1000\n"
     ]
    }
   ],
   "source": [
    "print(f\"Make: {my_car.make},Model:{my_car.model},Year:{my_car.year}\")"
   ]
  },
  {
   "cell_type": "code",
   "execution_count": 17,
   "id": "658e4334-ffde-4624-bd1b-af2770ed1d12",
   "metadata": {},
   "outputs": [
    {
     "name": "stdout",
     "output_type": "stream",
     "text": [
      "Accelerating... Current speed: 10 km/h\n"
     ]
    }
   ],
   "source": [
    "my_car.accelerate()\n"
   ]
  },
  {
   "cell_type": "code",
   "execution_count": null,
   "id": "cf53d2d1-8698-4b1e-a421-2c341c8c0c56",
   "metadata": {},
   "outputs": [],
   "source": []
  }
 ],
 "metadata": {
  "kernelspec": {
   "display_name": "Python 3 (ipykernel)",
   "language": "python",
   "name": "python3"
  },
  "language_info": {
   "codemirror_mode": {
    "name": "ipython",
    "version": 3
   },
   "file_extension": ".py",
   "mimetype": "text/x-python",
   "name": "python",
   "nbconvert_exporter": "python",
   "pygments_lexer": "ipython3",
   "version": "3.10.8"
  }
 },
 "nbformat": 4,
 "nbformat_minor": 5
}
