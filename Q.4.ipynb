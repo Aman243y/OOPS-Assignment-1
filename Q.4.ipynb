{
 "cells": [
  {
   "cell_type": "code",
   "execution_count": null,
   "id": "cec96c36-3e66-4402-80d8-7a2d16c85eb8",
   "metadata": {},
   "outputs": [],
   "source": [
    "#In object-oriented programming (OOP), self is a reference to the current instance of a class. It is used to access variables and methods within the class. The use of self is necessary because it allows you to differentiate between instance variables (belonging to the object) and local variables (temporary variables used within a method)."
   ]
  }
 ],
 "metadata": {
  "kernelspec": {
   "display_name": "Python 3 (ipykernel)",
   "language": "python",
   "name": "python3"
  },
  "language_info": {
   "codemirror_mode": {
    "name": "ipython",
    "version": 3
   },
   "file_extension": ".py",
   "mimetype": "text/x-python",
   "name": "python",
   "nbconvert_exporter": "python",
   "pygments_lexer": "ipython3",
   "version": "3.10.8"
  }
 },
 "nbformat": 4,
 "nbformat_minor": 5
}
