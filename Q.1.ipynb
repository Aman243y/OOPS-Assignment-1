{
 "cells": [
  {
   "cell_type": "code",
   "execution_count": null,
   "id": "8a747d56-ec2c-4936-b6d7-227fa228ef65",
   "metadata": {},
   "outputs": [],
   "source": [
    "# in object oriented programming , a class is a blueprint for creating objects.it defines the attributes and method that characterze the objects of the class. Essentially , a class provides a template or set of instructions for creating objects with specific properties and behaviors.\n"
   ]
  },
  {
   "cell_type": "code",
   "execution_count": null,
   "id": "55e4b6e0-14d3-45e9-9676-98af3d117e7c",
   "metadata": {},
   "outputs": [],
   "source": [
    "#An Object is an instance of a class .it represents a specific realization of the class blueprint , with its own unique data and behavior"
   ]
  },
  {
   "cell_type": "code",
   "execution_count": 4,
   "id": "b4c1be0e-432b-4047-94fe-e546d15592eb",
   "metadata": {},
   "outputs": [],
   "source": [
    "class Car:\n",
    "    def __init__(self,make,model,year):\n",
    "        self.make=make\n",
    "        self.model=model\n",
    "        self.year=year\n",
    "    def display_info(self):\n",
    "        print(f\"Car Information: {self.year} {self.make} {self.model}\")"
   ]
  },
  {
   "cell_type": "code",
   "execution_count": 5,
   "id": "a72fe3c6-7a46-4e6d-addd-5f0c1f5f9800",
   "metadata": {},
   "outputs": [],
   "source": [
    "car1=Car(\"Toyata\",\"Corolla\",2000)\n",
    "car2=Car(\"Honda\",\"Civic\",2018)"
   ]
  },
  {
   "cell_type": "code",
   "execution_count": 6,
   "id": "3766ae4e-a672-424d-8c66-19a37795702e",
   "metadata": {},
   "outputs": [
    {
     "name": "stdout",
     "output_type": "stream",
     "text": [
      "Car Information: 2000 Toyata Corolla\n",
      "Car Information: 2018 Honda Civic\n"
     ]
    }
   ],
   "source": [
    "car1.display_info()\n",
    "car2.display_info()"
   ]
  },
  {
   "cell_type": "code",
   "execution_count": null,
   "id": "639e8fac-36ec-42d3-9e07-e3513c44e76d",
   "metadata": {},
   "outputs": [],
   "source": []
  }
 ],
 "metadata": {
  "kernelspec": {
   "display_name": "Python 3 (ipykernel)",
   "language": "python",
   "name": "python3"
  },
  "language_info": {
   "codemirror_mode": {
    "name": "ipython",
    "version": 3
   },
   "file_extension": ".py",
   "mimetype": "text/x-python",
   "name": "python",
   "nbconvert_exporter": "python",
   "pygments_lexer": "ipython3",
   "version": "3.10.8"
  }
 },
 "nbformat": 4,
 "nbformat_minor": 5
}
